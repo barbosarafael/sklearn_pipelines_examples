{
 "cells": [
  {
   "cell_type": "markdown",
   "id": "4c1bb1a7-2f40-4c2f-9175-52885c3afc51",
   "metadata": {},
   "source": [
    "# Notebook com informações sobre pipelines\n",
    "\n",
    "A ideia deste notebook é testar vários modelos em somente um pipeline e, também, novos tipos de encoders. "
   ]
  },
  {
   "cell_type": "markdown",
   "id": "aee740b1-3e8e-48a6-914b-139d1e046451",
   "metadata": {},
   "source": [
    "## 1. Importando as bibliotecas iniciais"
   ]
  },
  {
   "cell_type": "code",
   "execution_count": 1,
   "id": "42edce9f-02c4-4e65-9028-c8038b8e6823",
   "metadata": {},
   "outputs": [],
   "source": [
    "import pandas as pd\n",
    "import numpy as np"
   ]
  },
  {
   "cell_type": "markdown",
   "id": "e1148456-a4cc-4382-bcce-b34348cde9ff",
   "metadata": {},
   "source": [
    "## 2. Contextualizando e carregando os dados \n",
    "\n",
    "Uma empresa de ciência de dados e Big Data oferece cursos e gostaria de contratar algum(ns) cientista(s) de dado(s) que completaram os seus cursos. Para isso, criaram um questionário que traz informações de dados demográficos, sociais, educação e etc, com o objetivo de minimizar os custos de contratação e otimizando o processo de contratação, pois sabem que o candidato deve ser treinado e adequado à equipe. Resumindo, vamos se dizer que uma empresa ao final do seu curso lhe gera um questionário de feedback do curso e pergunta se você gostaria de receber vagas deles, é o mesmo caso aqui."
   ]
  },
  {
   "cell_type": "code",
   "execution_count": 3,
   "id": "ad065e2b-23ab-4f44-9f8f-ce5a724be611",
   "metadata": {},
   "outputs": [
    {
     "data": {
      "text/html": [
       "<div>\n",
       "<style scoped>\n",
       "    .dataframe tbody tr th:only-of-type {\n",
       "        vertical-align: middle;\n",
       "    }\n",
       "\n",
       "    .dataframe tbody tr th {\n",
       "        vertical-align: top;\n",
       "    }\n",
       "\n",
       "    .dataframe thead th {\n",
       "        text-align: right;\n",
       "    }\n",
       "</style>\n",
       "<table border=\"1\" class=\"dataframe\">\n",
       "  <thead>\n",
       "    <tr style=\"text-align: right;\">\n",
       "      <th></th>\n",
       "      <th>enrollee_id</th>\n",
       "      <th>city</th>\n",
       "      <th>city_development_index</th>\n",
       "      <th>gender</th>\n",
       "      <th>relevent_experience</th>\n",
       "      <th>enrolled_university</th>\n",
       "      <th>education_level</th>\n",
       "      <th>major_discipline</th>\n",
       "      <th>experience</th>\n",
       "      <th>company_size</th>\n",
       "      <th>company_type</th>\n",
       "      <th>last_new_job</th>\n",
       "      <th>training_hours</th>\n",
       "      <th>target</th>\n",
       "    </tr>\n",
       "  </thead>\n",
       "  <tbody>\n",
       "    <tr>\n",
       "      <th>0</th>\n",
       "      <td>8949</td>\n",
       "      <td>city_103</td>\n",
       "      <td>0.920</td>\n",
       "      <td>Male</td>\n",
       "      <td>Has relevent experience</td>\n",
       "      <td>no_enrollment</td>\n",
       "      <td>Graduate</td>\n",
       "      <td>STEM</td>\n",
       "      <td>&gt;20</td>\n",
       "      <td>NaN</td>\n",
       "      <td>NaN</td>\n",
       "      <td>1</td>\n",
       "      <td>36</td>\n",
       "      <td>1.0</td>\n",
       "    </tr>\n",
       "    <tr>\n",
       "      <th>1</th>\n",
       "      <td>29725</td>\n",
       "      <td>city_40</td>\n",
       "      <td>0.776</td>\n",
       "      <td>Male</td>\n",
       "      <td>No relevent experience</td>\n",
       "      <td>no_enrollment</td>\n",
       "      <td>Graduate</td>\n",
       "      <td>STEM</td>\n",
       "      <td>15</td>\n",
       "      <td>50-99</td>\n",
       "      <td>Pvt Ltd</td>\n",
       "      <td>&gt;4</td>\n",
       "      <td>47</td>\n",
       "      <td>0.0</td>\n",
       "    </tr>\n",
       "    <tr>\n",
       "      <th>2</th>\n",
       "      <td>11561</td>\n",
       "      <td>city_21</td>\n",
       "      <td>0.624</td>\n",
       "      <td>NaN</td>\n",
       "      <td>No relevent experience</td>\n",
       "      <td>Full time course</td>\n",
       "      <td>Graduate</td>\n",
       "      <td>STEM</td>\n",
       "      <td>5</td>\n",
       "      <td>NaN</td>\n",
       "      <td>NaN</td>\n",
       "      <td>never</td>\n",
       "      <td>83</td>\n",
       "      <td>0.0</td>\n",
       "    </tr>\n",
       "    <tr>\n",
       "      <th>3</th>\n",
       "      <td>33241</td>\n",
       "      <td>city_115</td>\n",
       "      <td>0.789</td>\n",
       "      <td>NaN</td>\n",
       "      <td>No relevent experience</td>\n",
       "      <td>NaN</td>\n",
       "      <td>Graduate</td>\n",
       "      <td>Business Degree</td>\n",
       "      <td>&lt;1</td>\n",
       "      <td>NaN</td>\n",
       "      <td>Pvt Ltd</td>\n",
       "      <td>never</td>\n",
       "      <td>52</td>\n",
       "      <td>1.0</td>\n",
       "    </tr>\n",
       "    <tr>\n",
       "      <th>4</th>\n",
       "      <td>666</td>\n",
       "      <td>city_162</td>\n",
       "      <td>0.767</td>\n",
       "      <td>Male</td>\n",
       "      <td>Has relevent experience</td>\n",
       "      <td>no_enrollment</td>\n",
       "      <td>Masters</td>\n",
       "      <td>STEM</td>\n",
       "      <td>&gt;20</td>\n",
       "      <td>50-99</td>\n",
       "      <td>Funded Startup</td>\n",
       "      <td>4</td>\n",
       "      <td>8</td>\n",
       "      <td>0.0</td>\n",
       "    </tr>\n",
       "    <tr>\n",
       "      <th>...</th>\n",
       "      <td>...</td>\n",
       "      <td>...</td>\n",
       "      <td>...</td>\n",
       "      <td>...</td>\n",
       "      <td>...</td>\n",
       "      <td>...</td>\n",
       "      <td>...</td>\n",
       "      <td>...</td>\n",
       "      <td>...</td>\n",
       "      <td>...</td>\n",
       "      <td>...</td>\n",
       "      <td>...</td>\n",
       "      <td>...</td>\n",
       "      <td>...</td>\n",
       "    </tr>\n",
       "    <tr>\n",
       "      <th>19153</th>\n",
       "      <td>7386</td>\n",
       "      <td>city_173</td>\n",
       "      <td>0.878</td>\n",
       "      <td>Male</td>\n",
       "      <td>No relevent experience</td>\n",
       "      <td>no_enrollment</td>\n",
       "      <td>Graduate</td>\n",
       "      <td>Humanities</td>\n",
       "      <td>14</td>\n",
       "      <td>NaN</td>\n",
       "      <td>NaN</td>\n",
       "      <td>1</td>\n",
       "      <td>42</td>\n",
       "      <td>1.0</td>\n",
       "    </tr>\n",
       "    <tr>\n",
       "      <th>19154</th>\n",
       "      <td>31398</td>\n",
       "      <td>city_103</td>\n",
       "      <td>0.920</td>\n",
       "      <td>Male</td>\n",
       "      <td>Has relevent experience</td>\n",
       "      <td>no_enrollment</td>\n",
       "      <td>Graduate</td>\n",
       "      <td>STEM</td>\n",
       "      <td>14</td>\n",
       "      <td>NaN</td>\n",
       "      <td>NaN</td>\n",
       "      <td>4</td>\n",
       "      <td>52</td>\n",
       "      <td>1.0</td>\n",
       "    </tr>\n",
       "    <tr>\n",
       "      <th>19155</th>\n",
       "      <td>24576</td>\n",
       "      <td>city_103</td>\n",
       "      <td>0.920</td>\n",
       "      <td>Male</td>\n",
       "      <td>Has relevent experience</td>\n",
       "      <td>no_enrollment</td>\n",
       "      <td>Graduate</td>\n",
       "      <td>STEM</td>\n",
       "      <td>&gt;20</td>\n",
       "      <td>50-99</td>\n",
       "      <td>Pvt Ltd</td>\n",
       "      <td>4</td>\n",
       "      <td>44</td>\n",
       "      <td>0.0</td>\n",
       "    </tr>\n",
       "    <tr>\n",
       "      <th>19156</th>\n",
       "      <td>5756</td>\n",
       "      <td>city_65</td>\n",
       "      <td>0.802</td>\n",
       "      <td>Male</td>\n",
       "      <td>Has relevent experience</td>\n",
       "      <td>no_enrollment</td>\n",
       "      <td>High School</td>\n",
       "      <td>NaN</td>\n",
       "      <td>&lt;1</td>\n",
       "      <td>500-999</td>\n",
       "      <td>Pvt Ltd</td>\n",
       "      <td>2</td>\n",
       "      <td>97</td>\n",
       "      <td>0.0</td>\n",
       "    </tr>\n",
       "    <tr>\n",
       "      <th>19157</th>\n",
       "      <td>23834</td>\n",
       "      <td>city_67</td>\n",
       "      <td>0.855</td>\n",
       "      <td>NaN</td>\n",
       "      <td>No relevent experience</td>\n",
       "      <td>no_enrollment</td>\n",
       "      <td>Primary School</td>\n",
       "      <td>NaN</td>\n",
       "      <td>2</td>\n",
       "      <td>NaN</td>\n",
       "      <td>NaN</td>\n",
       "      <td>1</td>\n",
       "      <td>127</td>\n",
       "      <td>0.0</td>\n",
       "    </tr>\n",
       "  </tbody>\n",
       "</table>\n",
       "<p>19158 rows × 14 columns</p>\n",
       "</div>"
      ],
      "text/plain": [
       "       enrollee_id      city  city_development_index gender  \\\n",
       "0             8949  city_103                   0.920   Male   \n",
       "1            29725   city_40                   0.776   Male   \n",
       "2            11561   city_21                   0.624    NaN   \n",
       "3            33241  city_115                   0.789    NaN   \n",
       "4              666  city_162                   0.767   Male   \n",
       "...            ...       ...                     ...    ...   \n",
       "19153         7386  city_173                   0.878   Male   \n",
       "19154        31398  city_103                   0.920   Male   \n",
       "19155        24576  city_103                   0.920   Male   \n",
       "19156         5756   city_65                   0.802   Male   \n",
       "19157        23834   city_67                   0.855    NaN   \n",
       "\n",
       "           relevent_experience enrolled_university education_level  \\\n",
       "0      Has relevent experience       no_enrollment        Graduate   \n",
       "1       No relevent experience       no_enrollment        Graduate   \n",
       "2       No relevent experience    Full time course        Graduate   \n",
       "3       No relevent experience                 NaN        Graduate   \n",
       "4      Has relevent experience       no_enrollment         Masters   \n",
       "...                        ...                 ...             ...   \n",
       "19153   No relevent experience       no_enrollment        Graduate   \n",
       "19154  Has relevent experience       no_enrollment        Graduate   \n",
       "19155  Has relevent experience       no_enrollment        Graduate   \n",
       "19156  Has relevent experience       no_enrollment     High School   \n",
       "19157   No relevent experience       no_enrollment  Primary School   \n",
       "\n",
       "      major_discipline experience company_size    company_type last_new_job  \\\n",
       "0                 STEM        >20          NaN             NaN            1   \n",
       "1                 STEM         15        50-99         Pvt Ltd           >4   \n",
       "2                 STEM          5          NaN             NaN        never   \n",
       "3      Business Degree         <1          NaN         Pvt Ltd        never   \n",
       "4                 STEM        >20        50-99  Funded Startup            4   \n",
       "...                ...        ...          ...             ...          ...   \n",
       "19153       Humanities         14          NaN             NaN            1   \n",
       "19154             STEM         14          NaN             NaN            4   \n",
       "19155             STEM        >20        50-99         Pvt Ltd            4   \n",
       "19156              NaN         <1      500-999         Pvt Ltd            2   \n",
       "19157              NaN          2          NaN             NaN            1   \n",
       "\n",
       "       training_hours  target  \n",
       "0                  36     1.0  \n",
       "1                  47     0.0  \n",
       "2                  83     0.0  \n",
       "3                  52     1.0  \n",
       "4                   8     0.0  \n",
       "...               ...     ...  \n",
       "19153              42     1.0  \n",
       "19154              52     1.0  \n",
       "19155              44     0.0  \n",
       "19156              97     0.0  \n",
       "19157             127     0.0  \n",
       "\n",
       "[19158 rows x 14 columns]"
      ]
     },
     "execution_count": 3,
     "metadata": {},
     "output_type": "execute_result"
    }
   ],
   "source": [
    "dados_treino = pd.read_csv(filepath_or_buffer = \"../data/raw/aug_train.csv\")\n",
    "\n",
    "dados_treino"
   ]
  },
  {
   "cell_type": "markdown",
   "id": "8edd9776-0a86-45ab-be09-1fd82ad376be",
   "metadata": {},
   "source": [
    "## 3. Informações iniciais dos dados"
   ]
  },
  {
   "cell_type": "code",
   "execution_count": 4,
   "id": "ee775ba6-a474-42aa-a16a-0ed0a9152f9e",
   "metadata": {},
   "outputs": [
    {
     "name": "stdout",
     "output_type": "stream",
     "text": [
      "<class 'pandas.core.frame.DataFrame'>\n",
      "RangeIndex: 19158 entries, 0 to 19157\n",
      "Data columns (total 14 columns):\n",
      " #   Column                  Non-Null Count  Dtype  \n",
      "---  ------                  --------------  -----  \n",
      " 0   enrollee_id             19158 non-null  int64  \n",
      " 1   city                    19158 non-null  object \n",
      " 2   city_development_index  19158 non-null  float64\n",
      " 3   gender                  14650 non-null  object \n",
      " 4   relevent_experience     19158 non-null  object \n",
      " 5   enrolled_university     18772 non-null  object \n",
      " 6   education_level         18698 non-null  object \n",
      " 7   major_discipline        16345 non-null  object \n",
      " 8   experience              19093 non-null  object \n",
      " 9   company_size            13220 non-null  object \n",
      " 10  company_type            13018 non-null  object \n",
      " 11  last_new_job            18735 non-null  object \n",
      " 12  training_hours          19158 non-null  int64  \n",
      " 13  target                  19158 non-null  float64\n",
      "dtypes: float64(2), int64(2), object(10)\n",
      "memory usage: 2.0+ MB\n"
     ]
    }
   ],
   "source": [
    "dados_treino.info()"
   ]
  },
  {
   "cell_type": "markdown",
   "id": "835c4813-012c-426b-93af-acc6cf7f5985",
   "metadata": {},
   "source": [
    "---\n",
    "\n",
    "Inicialmente, não precisamos fazer nenhuma transformação nos dados, pois todos estão no formato e tipo ideal."
   ]
  },
  {
   "cell_type": "code",
   "execution_count": 16,
   "id": "bcd490e7-17a0-494b-a9f6-dad60c3ec869",
   "metadata": {},
   "outputs": [
    {
     "data": {
      "text/plain": [
       "0.0    14381\n",
       "1.0     4777\n",
       "Name: target, dtype: int64"
      ]
     },
     "execution_count": 16,
     "metadata": {},
     "output_type": "execute_result"
    }
   ],
   "source": [
    "dados_treino[\"target\"].value_counts()"
   ]
  },
  {
   "cell_type": "markdown",
   "id": "614686fe-4a38-47d4-9298-9883564d4177",
   "metadata": {},
   "source": [
    "## 4. Separando em treino e teste"
   ]
  },
  {
   "cell_type": "markdown",
   "id": "88f380d3-5da6-4b61-8e24-be6c6a12c63b",
   "metadata": {},
   "source": [
    "Apesar de termos dados de ter uma base de teste também, ela não possui rótulo. Logo, teremos que dividir nossos dados de treino (que estão rotulados) em treino e teste.\n",
    "\n",
    "Como não temos nenhuma dependência temporal aliada a série, podemos fazer o split aleatório. "
   ]
  },
  {
   "cell_type": "code",
   "execution_count": 17,
   "id": "c43a9a0b-18c5-4027-8091-4b839a70aec2",
   "metadata": {},
   "outputs": [],
   "source": [
    "from sklearn.model_selection import train_test_split\n",
    "\n",
    "X = dados_treino.drop(\"target\", axis = 1)\n",
    "y = dados_treino[[\"target\"]]\n",
    "\n",
    "x_train, x_test, y_train, y_test = train_test_split(X, y, test_size = 0.25, random_state = 1234, stratify = y)"
   ]
  },
  {
   "cell_type": "code",
   "execution_count": 18,
   "id": "6748ed36-72fb-48f0-9162-36b7b1173072",
   "metadata": {},
   "outputs": [
    {
     "name": "stdout",
     "output_type": "stream",
     "text": [
      "(14368, 13) (14368, 1) (4790, 13) (4790, 1)\n"
     ]
    }
   ],
   "source": [
    "print(x_train.shape, y_train.shape, x_test.shape, y_test.shape)"
   ]
  },
  {
   "cell_type": "markdown",
   "id": "de49e33c-496d-4190-b448-48a4a4c56d63",
   "metadata": {},
   "source": [
    "Com isso, temos 14.368 observações nos dados de treino e 4.790 nos dados de teste."
   ]
  },
  {
   "cell_type": "markdown",
   "id": "0ced782c-5232-4f21-bca7-de3e61c8d36d",
   "metadata": {},
   "source": [
    "## 5. Criando Pipelines"
   ]
  },
  {
   "cell_type": "code",
   "execution_count": 13,
   "id": "b11d4afa-da61-4e42-8a53-d9ae9380dae0",
   "metadata": {},
   "outputs": [],
   "source": [
    "#---- Funções\n",
    "\n",
    "from sklearn.pipeline import Pipeline # Função para o Pipeline\n",
    "from sklearn.compose import ColumnTransformer # Função caso queiramos criar uma função nossa e colocar dentro do Pipeline\n",
    "from sklearn.preprocessing import StandardScaler, FunctionTransformer, OneHotEncoder, MinMaxScaler # Encoders\n",
    "from sklearn.model_selection import cross_val_score, GridSearchCV # Grid Searchs\n",
    "from sklearn import set_config # Pipelines bisualmente bonitos\n",
    "from sklearn.linear_model import LogisticRegrdadoession # Um primeiro modelo\n",
    "\n",
    "#---- Deixando os pipelines bonitos \n",
    "\n",
    "set_config(display = \"diagram\")"
   ]
  },
  {
   "cell_type": "markdown",
   "id": "e33fd446-8e4b-469e-9d4e-7a8a2107fed7",
   "metadata": {},
   "source": [
    "### 5.1. **Pipeline I**: Regressão Logística + OHE (qualitativas) + StandardScaler (quantitativas)"
   ]
  },
  {
   "cell_type": "code",
   "execution_count": 79,
   "id": "0c47e8a5-5c5d-47ff-8d1b-85e4045adc2a",
   "metadata": {},
   "outputs": [],
   "source": [
    "#---- Definindo nosso modelo\n",
    "\n",
    "log_reg = LogisticRegression(random_state = 1234, max_iter = 400)\n",
    "\n",
    "#---- Definindo nossos encoder\n",
    "\n",
    "ohe = OneHotEncoder()\n",
    "scaler = StandardScaler()"
   ]
  },
  {
   "cell_type": "code",
   "execution_count": 80,
   "id": "f3ded269-bb52-4ed6-8e5e-e3dcbfd92a22",
   "metadata": {},
   "outputs": [],
   "source": [
    "#---- Definindo as features numéricas em uma lista para aplicarmos o Scaler\n",
    "\n",
    "numeric_features = [\"city_development_index\", \"training_hours\"]\n",
    "\n",
    "#---- Definindo as features categóricas em uma lista para aplicarmos o OHE\n",
    "\n",
    "categorical_features = list(dados_treino.select_dtypes(\"object\").columns)"
   ]
  },
  {
   "cell_type": "code",
   "execution_count": 81,
   "id": "2aa4b40d-6261-44da-9ee0-5f1f6a6d6846",
   "metadata": {},
   "outputs": [],
   "source": [
    "#---- Aplicando o transformer de aplicar o Scaler \n",
    "\n",
    "transformer_scaler_features = Pipeline(steps = [(\"scaler_variable\", scaler)])\n",
    "\n",
    "#---- Aplicando o transformer de aplicar o OHE\n",
    "\n",
    "transformer_ohe_features = Pipeline(steps = [(\"ohe_variable\", ohe)])"
   ]
  },
  {
   "cell_type": "code",
   "execution_count": 82,
   "id": "d58295fe-75af-4d38-8d7b-22472ad85ded",
   "metadata": {},
   "outputs": [],
   "source": [
    "#---- Aplicando o preprocessor nas colunas\n",
    "\n",
    "\n",
    "preprocessor = ColumnTransformer(\n",
    "    transformers = [(\"scaler_variables123\", transformer_scaler_features, numeric_features),\n",
    "                    (\"ohe1_varibales123\", transformer_ohe_features, categorical_features)],\n",
    "    remainder = \"drop\")"
   ]
  },
  {
   "cell_type": "code",
   "execution_count": 83,
   "id": "07466f26-3ac0-4811-a1a9-bd530e7f651d",
   "metadata": {},
   "outputs": [
    {
     "data": {
      "text/html": [
       "<style>#sk-1ee5576e-9490-49e3-9e83-b0c8008b6997 {color: black;background-color: white;}#sk-1ee5576e-9490-49e3-9e83-b0c8008b6997 pre{padding: 0;}#sk-1ee5576e-9490-49e3-9e83-b0c8008b6997 div.sk-toggleable {background-color: white;}#sk-1ee5576e-9490-49e3-9e83-b0c8008b6997 label.sk-toggleable__label {cursor: pointer;display: block;width: 100%;margin-bottom: 0;padding: 0.2em 0.3em;box-sizing: border-box;text-align: center;}#sk-1ee5576e-9490-49e3-9e83-b0c8008b6997 div.sk-toggleable__content {max-height: 0;max-width: 0;overflow: hidden;text-align: left;background-color: #f0f8ff;}#sk-1ee5576e-9490-49e3-9e83-b0c8008b6997 div.sk-toggleable__content pre {margin: 0.2em;color: black;border-radius: 0.25em;background-color: #f0f8ff;}#sk-1ee5576e-9490-49e3-9e83-b0c8008b6997 input.sk-toggleable__control:checked~div.sk-toggleable__content {max-height: 200px;max-width: 100%;overflow: auto;}#sk-1ee5576e-9490-49e3-9e83-b0c8008b6997 div.sk-estimator input.sk-toggleable__control:checked~label.sk-toggleable__label {background-color: #d4ebff;}#sk-1ee5576e-9490-49e3-9e83-b0c8008b6997 div.sk-label input.sk-toggleable__control:checked~label.sk-toggleable__label {background-color: #d4ebff;}#sk-1ee5576e-9490-49e3-9e83-b0c8008b6997 input.sk-hidden--visually {border: 0;clip: rect(1px 1px 1px 1px);clip: rect(1px, 1px, 1px, 1px);height: 1px;margin: -1px;overflow: hidden;padding: 0;position: absolute;width: 1px;}#sk-1ee5576e-9490-49e3-9e83-b0c8008b6997 div.sk-estimator {font-family: monospace;background-color: #f0f8ff;margin: 0.25em 0.25em;border: 1px dotted black;border-radius: 0.25em;box-sizing: border-box;}#sk-1ee5576e-9490-49e3-9e83-b0c8008b6997 div.sk-estimator:hover {background-color: #d4ebff;}#sk-1ee5576e-9490-49e3-9e83-b0c8008b6997 div.sk-parallel-item::after {content: \"\";width: 100%;border-bottom: 1px solid gray;flex-grow: 1;}#sk-1ee5576e-9490-49e3-9e83-b0c8008b6997 div.sk-label:hover label.sk-toggleable__label {background-color: #d4ebff;}#sk-1ee5576e-9490-49e3-9e83-b0c8008b6997 div.sk-serial::before {content: \"\";position: absolute;border-left: 1px solid gray;box-sizing: border-box;top: 2em;bottom: 0;left: 50%;}#sk-1ee5576e-9490-49e3-9e83-b0c8008b6997 div.sk-serial {display: flex;flex-direction: column;align-items: center;background-color: white;}#sk-1ee5576e-9490-49e3-9e83-b0c8008b6997 div.sk-item {z-index: 1;}#sk-1ee5576e-9490-49e3-9e83-b0c8008b6997 div.sk-parallel {display: flex;align-items: stretch;justify-content: center;background-color: white;}#sk-1ee5576e-9490-49e3-9e83-b0c8008b6997 div.sk-parallel-item {display: flex;flex-direction: column;position: relative;background-color: white;}#sk-1ee5576e-9490-49e3-9e83-b0c8008b6997 div.sk-parallel-item:first-child::after {align-self: flex-end;width: 50%;}#sk-1ee5576e-9490-49e3-9e83-b0c8008b6997 div.sk-parallel-item:last-child::after {align-self: flex-start;width: 50%;}#sk-1ee5576e-9490-49e3-9e83-b0c8008b6997 div.sk-parallel-item:only-child::after {width: 0;}#sk-1ee5576e-9490-49e3-9e83-b0c8008b6997 div.sk-dashed-wrapped {border: 1px dashed gray;margin: 0.2em;box-sizing: border-box;padding-bottom: 0.1em;background-color: white;position: relative;}#sk-1ee5576e-9490-49e3-9e83-b0c8008b6997 div.sk-label label {font-family: monospace;font-weight: bold;background-color: white;display: inline-block;line-height: 1.2em;}#sk-1ee5576e-9490-49e3-9e83-b0c8008b6997 div.sk-label-container {position: relative;z-index: 2;text-align: center;}#sk-1ee5576e-9490-49e3-9e83-b0c8008b6997 div.sk-container {display: inline-block;position: relative;}</style><div id=\"sk-1ee5576e-9490-49e3-9e83-b0c8008b6997\" class\"sk-top-container\"><div class=\"sk-container\"><div class=\"sk-item sk-dashed-wrapped\"><div class=\"sk-label-container\"><div class=\"sk-label sk-toggleable\"><input class=\"sk-toggleable__control sk-hidden--visually\" id=\"c8b28171-c0ee-494f-9d70-35948540dba2\" type=\"checkbox\" ><label class=\"sk-toggleable__label\" for=\"c8b28171-c0ee-494f-9d70-35948540dba2\">Pipeline</label><div class=\"sk-toggleable__content\"><pre>Pipeline(steps=[('preprocessor',\n",
       "                 ColumnTransformer(transformers=[('scaler_variables123',\n",
       "                                                  Pipeline(steps=[('scaler_variable',\n",
       "                                                                   StandardScaler())]),\n",
       "                                                  ['city_development_index',\n",
       "                                                   'training_hours']),\n",
       "                                                 ('ohe1_varibales123',\n",
       "                                                  Pipeline(steps=[('ohe_variable',\n",
       "                                                                   OneHotEncoder())]),\n",
       "                                                  ['city', 'gender',\n",
       "                                                   'relevent_experience',\n",
       "                                                   'enrolled_university',\n",
       "                                                   'education_level',\n",
       "                                                   'major_discipline',\n",
       "                                                   'experience', 'company_size',\n",
       "                                                   'company_type',\n",
       "                                                   'last_new_job'])])),\n",
       "                ('classifier',\n",
       "                 LogisticRegression(max_iter=400, random_state=1234))])</pre></div></div></div><div class=\"sk-serial\"><div class=\"sk-item sk-dashed-wrapped\"><div class=\"sk-label-container\"><div class=\"sk-label sk-toggleable\"><input class=\"sk-toggleable__control sk-hidden--visually\" id=\"64bd669f-1908-4f21-9109-bc01856f0643\" type=\"checkbox\" ><label class=\"sk-toggleable__label\" for=\"64bd669f-1908-4f21-9109-bc01856f0643\">preprocessor: ColumnTransformer</label><div class=\"sk-toggleable__content\"><pre>ColumnTransformer(transformers=[('scaler_variables123',\n",
       "                                 Pipeline(steps=[('scaler_variable',\n",
       "                                                  StandardScaler())]),\n",
       "                                 ['city_development_index', 'training_hours']),\n",
       "                                ('ohe1_varibales123',\n",
       "                                 Pipeline(steps=[('ohe_variable',\n",
       "                                                  OneHotEncoder())]),\n",
       "                                 ['city', 'gender', 'relevent_experience',\n",
       "                                  'enrolled_university', 'education_level',\n",
       "                                  'major_discipline', 'experience',\n",
       "                                  'company_size', 'company_type',\n",
       "                                  'last_new_job'])])</pre></div></div></div><div class=\"sk-parallel\"><div class=\"sk-parallel-item\"><div class=\"sk-item\"><div class=\"sk-label-container\"><div class=\"sk-label sk-toggleable\"><input class=\"sk-toggleable__control sk-hidden--visually\" id=\"7dc35b82-3e82-4d2a-8009-38489c3d626f\" type=\"checkbox\" ><label class=\"sk-toggleable__label\" for=\"7dc35b82-3e82-4d2a-8009-38489c3d626f\">scaler_variables123</label><div class=\"sk-toggleable__content\"><pre>['city_development_index', 'training_hours']</pre></div></div></div><div class=\"sk-serial\"><div class=\"sk-item\"><div class=\"sk-serial\"><div class=\"sk-item\"><div class=\"sk-estimator sk-toggleable\"><input class=\"sk-toggleable__control sk-hidden--visually\" id=\"7e9096f8-cc3c-4611-a320-7f72084ca32d\" type=\"checkbox\" ><label class=\"sk-toggleable__label\" for=\"7e9096f8-cc3c-4611-a320-7f72084ca32d\">StandardScaler</label><div class=\"sk-toggleable__content\"><pre>StandardScaler()</pre></div></div></div></div></div></div></div></div><div class=\"sk-parallel-item\"><div class=\"sk-item\"><div class=\"sk-label-container\"><div class=\"sk-label sk-toggleable\"><input class=\"sk-toggleable__control sk-hidden--visually\" id=\"7ecb9361-4450-421b-86b5-e71d1cce22a4\" type=\"checkbox\" ><label class=\"sk-toggleable__label\" for=\"7ecb9361-4450-421b-86b5-e71d1cce22a4\">ohe1_varibales123</label><div class=\"sk-toggleable__content\"><pre>['city', 'gender', 'relevent_experience', 'enrolled_university', 'education_level', 'major_discipline', 'experience', 'company_size', 'company_type', 'last_new_job']</pre></div></div></div><div class=\"sk-serial\"><div class=\"sk-item\"><div class=\"sk-serial\"><div class=\"sk-item\"><div class=\"sk-estimator sk-toggleable\"><input class=\"sk-toggleable__control sk-hidden--visually\" id=\"f522ea1a-a1e9-4800-89a6-5247dc555ac0\" type=\"checkbox\" ><label class=\"sk-toggleable__label\" for=\"f522ea1a-a1e9-4800-89a6-5247dc555ac0\">OneHotEncoder</label><div class=\"sk-toggleable__content\"><pre>OneHotEncoder()</pre></div></div></div></div></div></div></div></div></div></div><div class=\"sk-item\"><div class=\"sk-estimator sk-toggleable\"><input class=\"sk-toggleable__control sk-hidden--visually\" id=\"e49ed810-dd9c-467c-a20d-03fb9bbedfb4\" type=\"checkbox\" ><label class=\"sk-toggleable__label\" for=\"e49ed810-dd9c-467c-a20d-03fb9bbedfb4\">LogisticRegression</label><div class=\"sk-toggleable__content\"><pre>LogisticRegression(max_iter=400, random_state=1234)</pre></div></div></div></div></div></div></div>"
      ],
      "text/plain": [
       "Pipeline(steps=[('preprocessor',\n",
       "                 ColumnTransformer(transformers=[('scaler_variables123',\n",
       "                                                  Pipeline(steps=[('scaler_variable',\n",
       "                                                                   StandardScaler())]),\n",
       "                                                  ['city_development_index',\n",
       "                                                   'training_hours']),\n",
       "                                                 ('ohe1_varibales123',\n",
       "                                                  Pipeline(steps=[('ohe_variable',\n",
       "                                                                   OneHotEncoder())]),\n",
       "                                                  ['city', 'gender',\n",
       "                                                   'relevent_experience',\n",
       "                                                   'enrolled_university',\n",
       "                                                   'education_level',\n",
       "                                                   'major_discipline',\n",
       "                                                   'experience', 'company_size',\n",
       "                                                   'company_type',\n",
       "                                                   'last_new_job'])])),\n",
       "                ('classifier',\n",
       "                 LogisticRegression(max_iter=400, random_state=1234))])"
      ]
     },
     "execution_count": 83,
     "metadata": {},
     "output_type": "execute_result"
    }
   ],
   "source": [
    "#---- Aglutinando/Juntando/Ligando o pré-processamento com o modelo\n",
    "\n",
    "model = Pipeline(steps = [(\"preprocessor\", preprocessor),\n",
    "                          (\"classifier\", log_reg)])\n",
    "\n",
    "model"
   ]
  },
  {
   "cell_type": "code",
   "execution_count": 87,
   "id": "7d49175f-578c-446c-b990-30000c5b8d95",
   "metadata": {},
   "outputs": [
    {
     "name": "stderr",
     "output_type": "stream",
     "text": [
      "/home/rafael/Documentos/Github/sklearn_pipelines_examples/venv1/lib/python3.8/site-packages/sklearn/utils/validation.py:63: DataConversionWarning: A column-vector y was passed when a 1d array was expected. Please change the shape of y to (n_samples, ), for example using ravel().\n",
      "  return f(*args, **kwargs)\n"
     ]
    },
    {
     "data": {
      "text/html": [
       "<style>#sk-e345c65f-bd21-4cbe-968a-20a69cb4a103 {color: black;background-color: white;}#sk-e345c65f-bd21-4cbe-968a-20a69cb4a103 pre{padding: 0;}#sk-e345c65f-bd21-4cbe-968a-20a69cb4a103 div.sk-toggleable {background-color: white;}#sk-e345c65f-bd21-4cbe-968a-20a69cb4a103 label.sk-toggleable__label {cursor: pointer;display: block;width: 100%;margin-bottom: 0;padding: 0.2em 0.3em;box-sizing: border-box;text-align: center;}#sk-e345c65f-bd21-4cbe-968a-20a69cb4a103 div.sk-toggleable__content {max-height: 0;max-width: 0;overflow: hidden;text-align: left;background-color: #f0f8ff;}#sk-e345c65f-bd21-4cbe-968a-20a69cb4a103 div.sk-toggleable__content pre {margin: 0.2em;color: black;border-radius: 0.25em;background-color: #f0f8ff;}#sk-e345c65f-bd21-4cbe-968a-20a69cb4a103 input.sk-toggleable__control:checked~div.sk-toggleable__content {max-height: 200px;max-width: 100%;overflow: auto;}#sk-e345c65f-bd21-4cbe-968a-20a69cb4a103 div.sk-estimator input.sk-toggleable__control:checked~label.sk-toggleable__label {background-color: #d4ebff;}#sk-e345c65f-bd21-4cbe-968a-20a69cb4a103 div.sk-label input.sk-toggleable__control:checked~label.sk-toggleable__label {background-color: #d4ebff;}#sk-e345c65f-bd21-4cbe-968a-20a69cb4a103 input.sk-hidden--visually {border: 0;clip: rect(1px 1px 1px 1px);clip: rect(1px, 1px, 1px, 1px);height: 1px;margin: -1px;overflow: hidden;padding: 0;position: absolute;width: 1px;}#sk-e345c65f-bd21-4cbe-968a-20a69cb4a103 div.sk-estimator {font-family: monospace;background-color: #f0f8ff;margin: 0.25em 0.25em;border: 1px dotted black;border-radius: 0.25em;box-sizing: border-box;}#sk-e345c65f-bd21-4cbe-968a-20a69cb4a103 div.sk-estimator:hover {background-color: #d4ebff;}#sk-e345c65f-bd21-4cbe-968a-20a69cb4a103 div.sk-parallel-item::after {content: \"\";width: 100%;border-bottom: 1px solid gray;flex-grow: 1;}#sk-e345c65f-bd21-4cbe-968a-20a69cb4a103 div.sk-label:hover label.sk-toggleable__label {background-color: #d4ebff;}#sk-e345c65f-bd21-4cbe-968a-20a69cb4a103 div.sk-serial::before {content: \"\";position: absolute;border-left: 1px solid gray;box-sizing: border-box;top: 2em;bottom: 0;left: 50%;}#sk-e345c65f-bd21-4cbe-968a-20a69cb4a103 div.sk-serial {display: flex;flex-direction: column;align-items: center;background-color: white;}#sk-e345c65f-bd21-4cbe-968a-20a69cb4a103 div.sk-item {z-index: 1;}#sk-e345c65f-bd21-4cbe-968a-20a69cb4a103 div.sk-parallel {display: flex;align-items: stretch;justify-content: center;background-color: white;}#sk-e345c65f-bd21-4cbe-968a-20a69cb4a103 div.sk-parallel-item {display: flex;flex-direction: column;position: relative;background-color: white;}#sk-e345c65f-bd21-4cbe-968a-20a69cb4a103 div.sk-parallel-item:first-child::after {align-self: flex-end;width: 50%;}#sk-e345c65f-bd21-4cbe-968a-20a69cb4a103 div.sk-parallel-item:last-child::after {align-self: flex-start;width: 50%;}#sk-e345c65f-bd21-4cbe-968a-20a69cb4a103 div.sk-parallel-item:only-child::after {width: 0;}#sk-e345c65f-bd21-4cbe-968a-20a69cb4a103 div.sk-dashed-wrapped {border: 1px dashed gray;margin: 0.2em;box-sizing: border-box;padding-bottom: 0.1em;background-color: white;position: relative;}#sk-e345c65f-bd21-4cbe-968a-20a69cb4a103 div.sk-label label {font-family: monospace;font-weight: bold;background-color: white;display: inline-block;line-height: 1.2em;}#sk-e345c65f-bd21-4cbe-968a-20a69cb4a103 div.sk-label-container {position: relative;z-index: 2;text-align: center;}#sk-e345c65f-bd21-4cbe-968a-20a69cb4a103 div.sk-container {display: inline-block;position: relative;}</style><div id=\"sk-e345c65f-bd21-4cbe-968a-20a69cb4a103\" class\"sk-top-container\"><div class=\"sk-container\"><div class=\"sk-item sk-dashed-wrapped\"><div class=\"sk-label-container\"><div class=\"sk-label sk-toggleable\"><input class=\"sk-toggleable__control sk-hidden--visually\" id=\"688ee563-b1af-4766-8031-e5f424f7ad3d\" type=\"checkbox\" ><label class=\"sk-toggleable__label\" for=\"688ee563-b1af-4766-8031-e5f424f7ad3d\">Pipeline</label><div class=\"sk-toggleable__content\"><pre>Pipeline(steps=[('preprocessor',\n",
       "                 ColumnTransformer(transformers=[('scaler_variables123',\n",
       "                                                  Pipeline(steps=[('scaler_variable',\n",
       "                                                                   StandardScaler())]),\n",
       "                                                  ['city_development_index',\n",
       "                                                   'training_hours']),\n",
       "                                                 ('ohe1_varibales123',\n",
       "                                                  Pipeline(steps=[('ohe_variable',\n",
       "                                                                   OneHotEncoder())]),\n",
       "                                                  ['city', 'gender',\n",
       "                                                   'relevent_experience',\n",
       "                                                   'enrolled_university',\n",
       "                                                   'education_level',\n",
       "                                                   'major_discipline',\n",
       "                                                   'experience', 'company_size',\n",
       "                                                   'company_type',\n",
       "                                                   'last_new_job'])])),\n",
       "                ('classifier',\n",
       "                 LogisticRegression(max_iter=400, random_state=1234))])</pre></div></div></div><div class=\"sk-serial\"><div class=\"sk-item sk-dashed-wrapped\"><div class=\"sk-label-container\"><div class=\"sk-label sk-toggleable\"><input class=\"sk-toggleable__control sk-hidden--visually\" id=\"86f613bd-648d-43b7-9885-1f37a7163963\" type=\"checkbox\" ><label class=\"sk-toggleable__label\" for=\"86f613bd-648d-43b7-9885-1f37a7163963\">preprocessor: ColumnTransformer</label><div class=\"sk-toggleable__content\"><pre>ColumnTransformer(transformers=[('scaler_variables123',\n",
       "                                 Pipeline(steps=[('scaler_variable',\n",
       "                                                  StandardScaler())]),\n",
       "                                 ['city_development_index', 'training_hours']),\n",
       "                                ('ohe1_varibales123',\n",
       "                                 Pipeline(steps=[('ohe_variable',\n",
       "                                                  OneHotEncoder())]),\n",
       "                                 ['city', 'gender', 'relevent_experience',\n",
       "                                  'enrolled_university', 'education_level',\n",
       "                                  'major_discipline', 'experience',\n",
       "                                  'company_size', 'company_type',\n",
       "                                  'last_new_job'])])</pre></div></div></div><div class=\"sk-parallel\"><div class=\"sk-parallel-item\"><div class=\"sk-item\"><div class=\"sk-label-container\"><div class=\"sk-label sk-toggleable\"><input class=\"sk-toggleable__control sk-hidden--visually\" id=\"00d78efd-8742-4154-98fc-40506d7f0f96\" type=\"checkbox\" ><label class=\"sk-toggleable__label\" for=\"00d78efd-8742-4154-98fc-40506d7f0f96\">scaler_variables123</label><div class=\"sk-toggleable__content\"><pre>['city_development_index', 'training_hours']</pre></div></div></div><div class=\"sk-serial\"><div class=\"sk-item\"><div class=\"sk-serial\"><div class=\"sk-item\"><div class=\"sk-estimator sk-toggleable\"><input class=\"sk-toggleable__control sk-hidden--visually\" id=\"36dc43c7-2a83-4b81-ad04-5f21c860c51d\" type=\"checkbox\" ><label class=\"sk-toggleable__label\" for=\"36dc43c7-2a83-4b81-ad04-5f21c860c51d\">StandardScaler</label><div class=\"sk-toggleable__content\"><pre>StandardScaler()</pre></div></div></div></div></div></div></div></div><div class=\"sk-parallel-item\"><div class=\"sk-item\"><div class=\"sk-label-container\"><div class=\"sk-label sk-toggleable\"><input class=\"sk-toggleable__control sk-hidden--visually\" id=\"9a4d978a-b5ae-4de2-9d56-e31212e28ffb\" type=\"checkbox\" ><label class=\"sk-toggleable__label\" for=\"9a4d978a-b5ae-4de2-9d56-e31212e28ffb\">ohe1_varibales123</label><div class=\"sk-toggleable__content\"><pre>['city', 'gender', 'relevent_experience', 'enrolled_university', 'education_level', 'major_discipline', 'experience', 'company_size', 'company_type', 'last_new_job']</pre></div></div></div><div class=\"sk-serial\"><div class=\"sk-item\"><div class=\"sk-serial\"><div class=\"sk-item\"><div class=\"sk-estimator sk-toggleable\"><input class=\"sk-toggleable__control sk-hidden--visually\" id=\"cc7e91e7-7eab-400d-9329-350a8b418daa\" type=\"checkbox\" ><label class=\"sk-toggleable__label\" for=\"cc7e91e7-7eab-400d-9329-350a8b418daa\">OneHotEncoder</label><div class=\"sk-toggleable__content\"><pre>OneHotEncoder()</pre></div></div></div></div></div></div></div></div></div></div><div class=\"sk-item\"><div class=\"sk-estimator sk-toggleable\"><input class=\"sk-toggleable__control sk-hidden--visually\" id=\"58a58ab6-e8cc-45ea-a676-e40433ee6aa1\" type=\"checkbox\" ><label class=\"sk-toggleable__label\" for=\"58a58ab6-e8cc-45ea-a676-e40433ee6aa1\">LogisticRegression</label><div class=\"sk-toggleable__content\"><pre>LogisticRegression(max_iter=400, random_state=1234)</pre></div></div></div></div></div></div></div>"
      ],
      "text/plain": [
       "Pipeline(steps=[('preprocessor',\n",
       "                 ColumnTransformer(transformers=[('scaler_variables123',\n",
       "                                                  Pipeline(steps=[('scaler_variable',\n",
       "                                                                   StandardScaler())]),\n",
       "                                                  ['city_development_index',\n",
       "                                                   'training_hours']),\n",
       "                                                 ('ohe1_varibales123',\n",
       "                                                  Pipeline(steps=[('ohe_variable',\n",
       "                                                                   OneHotEncoder())]),\n",
       "                                                  ['city', 'gender',\n",
       "                                                   'relevent_experience',\n",
       "                                                   'enrolled_university',\n",
       "                                                   'education_level',\n",
       "                                                   'major_discipline',\n",
       "                                                   'experience', 'company_size',\n",
       "                                                   'company_type',\n",
       "                                                   'last_new_job'])])),\n",
       "                ('classifier',\n",
       "                 LogisticRegression(max_iter=400, random_state=1234))])"
      ]
     },
     "execution_count": 87,
     "metadata": {},
     "output_type": "execute_result"
    }
   ],
   "source": [
    "#---- Fitando o modelo\n",
    "\n",
    "model.fit(x_train, y_train)"
   ]
  },
  {
   "cell_type": "code",
   "execution_count": 89,
   "id": "77c3ec54-7c49-45a3-be4c-048bb2da3ac5",
   "metadata": {},
   "outputs": [
    {
     "name": "stderr",
     "output_type": "stream",
     "text": [
      "/home/rafael/Documentos/Github/sklearn_pipelines_examples/venv1/lib/python3.8/site-packages/sklearn/utils/validation.py:63: DataConversionWarning: A column-vector y was passed when a 1d array was expected. Please change the shape of y to (n_samples, ), for example using ravel().\n",
      "  return f(*args, **kwargs)\n",
      "/home/rafael/Documentos/Github/sklearn_pipelines_examples/venv1/lib/python3.8/site-packages/sklearn/model_selection/_validation.py:696: UserWarning: Scoring failed. The score on this train-test partition for these parameters will be set to nan. Details: \n",
      "Traceback (most recent call last):\n",
      "  File \"/home/rafael/Documentos/Github/sklearn_pipelines_examples/venv1/lib/python3.8/site-packages/sklearn/model_selection/_validation.py\", line 687, in _score\n",
      "    scores = scorer(estimator, X_test, y_test)\n",
      "  File \"/home/rafael/Documentos/Github/sklearn_pipelines_examples/venv1/lib/python3.8/site-packages/sklearn/metrics/_scorer.py\", line 87, in __call__\n",
      "    score = scorer._score(cached_call, estimator,\n",
      "  File \"/home/rafael/Documentos/Github/sklearn_pipelines_examples/venv1/lib/python3.8/site-packages/sklearn/metrics/_scorer.py\", line 236, in _score\n",
      "    y_pred = method_caller(estimator, \"predict\", X)\n",
      "  File \"/home/rafael/Documentos/Github/sklearn_pipelines_examples/venv1/lib/python3.8/site-packages/sklearn/metrics/_scorer.py\", line 53, in _cached_call\n",
      "    return getattr(estimator, method)(*args, **kwargs)\n",
      "  File \"/home/rafael/Documentos/Github/sklearn_pipelines_examples/venv1/lib/python3.8/site-packages/sklearn/utils/metaestimators.py\", line 120, in <lambda>\n",
      "    out = lambda *args, **kwargs: self.fn(obj, *args, **kwargs)\n",
      "  File \"/home/rafael/Documentos/Github/sklearn_pipelines_examples/venv1/lib/python3.8/site-packages/sklearn/pipeline.py\", line 418, in predict\n",
      "    Xt = transform.transform(Xt)\n",
      "  File \"/home/rafael/Documentos/Github/sklearn_pipelines_examples/venv1/lib/python3.8/site-packages/sklearn/compose/_column_transformer.py\", line 564, in transform\n",
      "    Xs = self._fit_transform(X, None, _transform_one, fitted=True)\n",
      "  File \"/home/rafael/Documentos/Github/sklearn_pipelines_examples/venv1/lib/python3.8/site-packages/sklearn/compose/_column_transformer.py\", line 434, in _fit_transform\n",
      "    return Parallel(n_jobs=self.n_jobs)(\n",
      "  File \"/home/rafael/Documentos/Github/sklearn_pipelines_examples/venv1/lib/python3.8/site-packages/joblib/parallel.py\", line 1044, in __call__\n",
      "    while self.dispatch_one_batch(iterator):\n",
      "  File \"/home/rafael/Documentos/Github/sklearn_pipelines_examples/venv1/lib/python3.8/site-packages/joblib/parallel.py\", line 859, in dispatch_one_batch\n",
      "    self._dispatch(tasks)\n",
      "  File \"/home/rafael/Documentos/Github/sklearn_pipelines_examples/venv1/lib/python3.8/site-packages/joblib/parallel.py\", line 777, in _dispatch\n",
      "    job = self._backend.apply_async(batch, callback=cb)\n",
      "  File \"/home/rafael/Documentos/Github/sklearn_pipelines_examples/venv1/lib/python3.8/site-packages/joblib/_parallel_backends.py\", line 208, in apply_async\n",
      "    result = ImmediateResult(func)\n",
      "  File \"/home/rafael/Documentos/Github/sklearn_pipelines_examples/venv1/lib/python3.8/site-packages/joblib/_parallel_backends.py\", line 572, in __init__\n",
      "    self.results = batch()\n",
      "  File \"/home/rafael/Documentos/Github/sklearn_pipelines_examples/venv1/lib/python3.8/site-packages/joblib/parallel.py\", line 262, in __call__\n",
      "    return [func(*args, **kwargs)\n",
      "  File \"/home/rafael/Documentos/Github/sklearn_pipelines_examples/venv1/lib/python3.8/site-packages/joblib/parallel.py\", line 262, in <listcomp>\n",
      "    return [func(*args, **kwargs)\n",
      "  File \"/home/rafael/Documentos/Github/sklearn_pipelines_examples/venv1/lib/python3.8/site-packages/sklearn/utils/fixes.py\", line 222, in __call__\n",
      "    return self.function(*args, **kwargs)\n",
      "  File \"/home/rafael/Documentos/Github/sklearn_pipelines_examples/venv1/lib/python3.8/site-packages/sklearn/pipeline.py\", line 733, in _transform_one\n",
      "    res = transformer.transform(X)\n",
      "  File \"/home/rafael/Documentos/Github/sklearn_pipelines_examples/venv1/lib/python3.8/site-packages/sklearn/pipeline.py\", line 560, in _transform\n",
      "    Xt = transform.transform(Xt)\n",
      "  File \"/home/rafael/Documentos/Github/sklearn_pipelines_examples/venv1/lib/python3.8/site-packages/sklearn/preprocessing/_encoders.py\", line 471, in transform\n",
      "    X_int, X_mask = self._transform(X, handle_unknown=self.handle_unknown,\n",
      "  File \"/home/rafael/Documentos/Github/sklearn_pipelines_examples/venv1/lib/python3.8/site-packages/sklearn/preprocessing/_encoders.py\", line 136, in _transform\n",
      "    raise ValueError(msg)\n",
      "ValueError: Found unknown categories ['city_171', 'city_111'] in column 0 during transform\n",
      "\n",
      "  warnings.warn(\n",
      "/home/rafael/Documentos/Github/sklearn_pipelines_examples/venv1/lib/python3.8/site-packages/sklearn/utils/validation.py:63: DataConversionWarning: A column-vector y was passed when a 1d array was expected. Please change the shape of y to (n_samples, ), for example using ravel().\n",
      "  return f(*args, **kwargs)\n",
      "/home/rafael/Documentos/Github/sklearn_pipelines_examples/venv1/lib/python3.8/site-packages/sklearn/utils/validation.py:63: DataConversionWarning: A column-vector y was passed when a 1d array was expected. Please change the shape of y to (n_samples, ), for example using ravel().\n",
      "  return f(*args, **kwargs)\n",
      "/home/rafael/Documentos/Github/sklearn_pipelines_examples/venv1/lib/python3.8/site-packages/sklearn/model_selection/_validation.py:696: UserWarning: Scoring failed. The score on this train-test partition for these parameters will be set to nan. Details: \n",
      "Traceback (most recent call last):\n",
      "  File \"/home/rafael/Documentos/Github/sklearn_pipelines_examples/venv1/lib/python3.8/site-packages/sklearn/model_selection/_validation.py\", line 687, in _score\n",
      "    scores = scorer(estimator, X_test, y_test)\n",
      "  File \"/home/rafael/Documentos/Github/sklearn_pipelines_examples/venv1/lib/python3.8/site-packages/sklearn/metrics/_scorer.py\", line 87, in __call__\n",
      "    score = scorer._score(cached_call, estimator,\n",
      "  File \"/home/rafael/Documentos/Github/sklearn_pipelines_examples/venv1/lib/python3.8/site-packages/sklearn/metrics/_scorer.py\", line 236, in _score\n",
      "    y_pred = method_caller(estimator, \"predict\", X)\n",
      "  File \"/home/rafael/Documentos/Github/sklearn_pipelines_examples/venv1/lib/python3.8/site-packages/sklearn/metrics/_scorer.py\", line 53, in _cached_call\n",
      "    return getattr(estimator, method)(*args, **kwargs)\n",
      "  File \"/home/rafael/Documentos/Github/sklearn_pipelines_examples/venv1/lib/python3.8/site-packages/sklearn/utils/metaestimators.py\", line 120, in <lambda>\n",
      "    out = lambda *args, **kwargs: self.fn(obj, *args, **kwargs)\n",
      "  File \"/home/rafael/Documentos/Github/sklearn_pipelines_examples/venv1/lib/python3.8/site-packages/sklearn/pipeline.py\", line 418, in predict\n",
      "    Xt = transform.transform(Xt)\n",
      "  File \"/home/rafael/Documentos/Github/sklearn_pipelines_examples/venv1/lib/python3.8/site-packages/sklearn/compose/_column_transformer.py\", line 564, in transform\n",
      "    Xs = self._fit_transform(X, None, _transform_one, fitted=True)\n",
      "  File \"/home/rafael/Documentos/Github/sklearn_pipelines_examples/venv1/lib/python3.8/site-packages/sklearn/compose/_column_transformer.py\", line 434, in _fit_transform\n",
      "    return Parallel(n_jobs=self.n_jobs)(\n",
      "  File \"/home/rafael/Documentos/Github/sklearn_pipelines_examples/venv1/lib/python3.8/site-packages/joblib/parallel.py\", line 1044, in __call__\n",
      "    while self.dispatch_one_batch(iterator):\n",
      "  File \"/home/rafael/Documentos/Github/sklearn_pipelines_examples/venv1/lib/python3.8/site-packages/joblib/parallel.py\", line 859, in dispatch_one_batch\n",
      "    self._dispatch(tasks)\n",
      "  File \"/home/rafael/Documentos/Github/sklearn_pipelines_examples/venv1/lib/python3.8/site-packages/joblib/parallel.py\", line 777, in _dispatch\n",
      "    job = self._backend.apply_async(batch, callback=cb)\n",
      "  File \"/home/rafael/Documentos/Github/sklearn_pipelines_examples/venv1/lib/python3.8/site-packages/joblib/_parallel_backends.py\", line 208, in apply_async\n",
      "    result = ImmediateResult(func)\n",
      "  File \"/home/rafael/Documentos/Github/sklearn_pipelines_examples/venv1/lib/python3.8/site-packages/joblib/_parallel_backends.py\", line 572, in __init__\n",
      "    self.results = batch()\n",
      "  File \"/home/rafael/Documentos/Github/sklearn_pipelines_examples/venv1/lib/python3.8/site-packages/joblib/parallel.py\", line 262, in __call__\n",
      "    return [func(*args, **kwargs)\n",
      "  File \"/home/rafael/Documentos/Github/sklearn_pipelines_examples/venv1/lib/python3.8/site-packages/joblib/parallel.py\", line 262, in <listcomp>\n",
      "    return [func(*args, **kwargs)\n",
      "  File \"/home/rafael/Documentos/Github/sklearn_pipelines_examples/venv1/lib/python3.8/site-packages/sklearn/utils/fixes.py\", line 222, in __call__\n",
      "    return self.function(*args, **kwargs)\n",
      "  File \"/home/rafael/Documentos/Github/sklearn_pipelines_examples/venv1/lib/python3.8/site-packages/sklearn/pipeline.py\", line 733, in _transform_one\n",
      "    res = transformer.transform(X)\n",
      "  File \"/home/rafael/Documentos/Github/sklearn_pipelines_examples/venv1/lib/python3.8/site-packages/sklearn/pipeline.py\", line 560, in _transform\n",
      "    Xt = transform.transform(Xt)\n",
      "  File \"/home/rafael/Documentos/Github/sklearn_pipelines_examples/venv1/lib/python3.8/site-packages/sklearn/preprocessing/_encoders.py\", line 471, in transform\n",
      "    X_int, X_mask = self._transform(X, handle_unknown=self.handle_unknown,\n",
      "  File \"/home/rafael/Documentos/Github/sklearn_pipelines_examples/venv1/lib/python3.8/site-packages/sklearn/preprocessing/_encoders.py\", line 136, in _transform\n",
      "    raise ValueError(msg)\n",
      "ValueError: Found unknown categories ['city_140'] in column 0 during transform\n",
      "\n",
      "  warnings.warn(\n",
      "/home/rafael/Documentos/Github/sklearn_pipelines_examples/venv1/lib/python3.8/site-packages/sklearn/utils/validation.py:63: DataConversionWarning: A column-vector y was passed when a 1d array was expected. Please change the shape of y to (n_samples, ), for example using ravel().\n",
      "  return f(*args, **kwargs)\n"
     ]
    },
    {
     "data": {
      "text/plain": [
       "array([       nan, 0.77561247,        nan, 0.78758352])"
      ]
     },
     "execution_count": 89,
     "metadata": {},
     "output_type": "execute_result"
    }
   ],
   "source": [
    "#---- Criando uma CV para verificar se o nosso modelo é consistente\n",
    "\n",
    "cross_val_score(model, x_train, y_train, cv = 4, scoring = \"accuracy\")"
   ]
  },
  {
   "cell_type": "markdown",
   "id": "48a0aa9f-941f-4a99-932e-1d195e92592d",
   "metadata": {},
   "source": [
    "Apesar de todas essas `warnings`, ele quis dizer que não encontrou uma observação de exemplo que possuía a categoria `city_140` para generalizar corretamente para uma predição futura. "
   ]
  },
  {
   "cell_type": "markdown",
   "id": "898a33a5-8d9d-49a9-91a3-471cbbfe5b08",
   "metadata": {},
   "source": [
    "### 5.2. **Pipeline I**: Regressão Logística + OHE (qualitativas) + StandardScaler (quantitativas)"
   ]
  },
  {
   "cell_type": "markdown",
   "id": "0c41a49d-d87f-4270-9920-1a9323a91857",
   "metadata": {},
   "source": [
    "# Definir uma métrica de acompanhamento, substituir o Pipeline pelo make_pipeline e continuar o pipeline vII"
   ]
  }
 ],
 "metadata": {
  "kernelspec": {
   "display_name": "Python 3",
   "language": "python",
   "name": "python3"
  },
  "language_info": {
   "codemirror_mode": {
    "name": "ipython",
    "version": 3
   },
   "file_extension": ".py",
   "mimetype": "text/x-python",
   "name": "python",
   "nbconvert_exporter": "python",
   "pygments_lexer": "ipython3",
   "version": "3.8.5"
  }
 },
 "nbformat": 4,
 "nbformat_minor": 5
}
